{
 "cells": [
  {
   "cell_type": "code",
   "execution_count": 2,
   "metadata": {
    "collapsed": true
   },
   "outputs": [],
   "source": [
    "from PIL import Image\n",
    "import numpy as np"
   ]
  },
  {
   "cell_type": "code",
   "execution_count": 14,
   "metadata": {},
   "outputs": [],
   "source": [
    "threshold = 100\n",
    "dist = 5\n",
    "img = Image.open('./logobig.jpeg').convert('RGBA')\n",
    "arr = np.array(np.asarray(img))\n",
    "r,g,b,a = np.rollaxis(arr, axis=-1)\n",
    "mask=((r > threshold)\n",
    "      & (g > threshold)\n",
    "      & (b > threshold)\n",
    "      & (np.abs(r-g) < dist) #将接近白色背景的也替换掉\n",
    "      & (np.abs(r-b) < dist)\n",
    "      & (np.abs(g-b) < dist)\n",
    "      )\n",
    "arr[mask,3]=0\n",
    "img=Image.fromarray(arr,mode='RGBA') #转换为图像格式\n",
    "img.save('lo.png')"
   ]
  }
 ],
 "metadata": {
  "kernelspec": {
   "display_name": "Python 3",
   "language": "python",
   "name": "python3"
  },
  "language_info": {
   "codemirror_mode": {
    "name": "ipython",
    "version": 3
   },
   "file_extension": ".py",
   "mimetype": "text/x-python",
   "name": "python",
   "nbconvert_exporter": "python",
   "pygments_lexer": "ipython3",
   "version": "3.6.3"
  }
 },
 "nbformat": 4,
 "nbformat_minor": 2
}
